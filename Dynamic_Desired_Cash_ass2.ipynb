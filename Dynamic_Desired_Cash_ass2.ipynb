{
  "cells": [
    {
      "cell_type": "markdown",
      "metadata": {
        "id": "u5RfKd1PP4qR"
      },
      "source": [
        "# Retirement Model\n",
        "\n",
        "This is a retirement model which models salary with both a constant growth rate for cost of living raises as well as regular salary increases for promotions. The model is broken up into the following sections:\n",
        "- [**Setup**](#Setup): Runs any imports and other setup\n",
        "- [**Inputs**](#Inputs): Defines the inputs for the model\n",
        "- [**Salaries**](#Salaries): Determining the salary in each year, considering cost of living raises and promotions\n",
        "- [**Wealths**](#Wealths): Determining the wealth in each year, considering a constant savings rate and investment rate\n",
        "- [**Retirement**](#Retirement): Determines years to retirement from the wealths over time, the main output from the model."
      ]
    },
    {
      "cell_type": "markdown",
      "metadata": {
        "id": "82ud8L7rP4qY"
      },
      "source": [
        "## Setup\n",
        "\n",
        "Setup for the later calculations are here. The necessary packages are imported."
      ]
    },
    {
      "cell_type": "code",
      "execution_count": null,
      "metadata": {
        "id": "8TZ4e63tP4qZ"
      },
      "outputs": [],
      "source": [
        "from dataclasses import dataclass"
      ]
    },
    {
      "cell_type": "markdown",
      "metadata": {
        "id": "B4EUKdVWP4qa"
      },
      "source": [
        "## Inputs\n",
        "\n",
        "All of the inputs for the model are defined here. A class is constructed to manage the data, and an instance of the class containing the default inputs is created."
      ]
    },
    {
      "cell_type": "code",
      "execution_count": null,
      "metadata": {
        "id": "XiCZYn38P4qb",
        "outputId": "6201328d-418c-4bd1-de60-9c2bf93af13e",
        "colab": {
          "base_uri": "https://localhost:8080/"
        }
      },
      "outputs": [
        {
          "output_type": "execute_result",
          "data": {
            "text/plain": [
              "ModelInputs(starting_salary=60000, promos_every_n_years=5, cost_of_living_raise=0.02, promo_raise=0.15, savings_rate=0.25, interest_rate=0.05, desired_cash=1500000, annual_cash_spend_during_retirement=40000, years_in_retirement=25)"
            ]
          },
          "metadata": {},
          "execution_count": 24
        }
      ],
      "source": [
        "@dataclass\n",
        "class ModelInputs:\n",
        "    starting_salary: int = 60000\n",
        "    promos_every_n_years: int = 5\n",
        "    cost_of_living_raise: float = 0.02\n",
        "    promo_raise: float = 0.15\n",
        "    savings_rate: float = 0.25\n",
        "    interest_rate: float = 0.05\n",
        "    desired_cash: int = 1500000\n",
        "\n",
        "    annual_cash_spend_during_retirement:int =40000\n",
        "    years_in_retirement: int= 25\n",
        "\n",
        "model_data = ModelInputs()\n",
        "model_data"
      ]
    },
    {
      "cell_type": "markdown",
      "metadata": {
        "id": "ryrJp62GP4qc"
      },
      "source": [
        "## Salaries\n",
        "\n",
        "Here the salary for each year is calculated. We assume that the salary grows at a constant rate each year for cost of living raises, and then also every number of years, the salary increases by a further percentage due to a promotion or switching jobs. Based on this assumption, the salary would evolve over time with the following equation:\n",
        "\n",
        "$$s_t = s_0 (1 + r_{cl})^n (1 + r_p)^p$$\n",
        "\n",
        "Where:\n",
        "- $s_t$: Salary at year $t$\n",
        "- $s_0$: Starting salary (year 0)\n",
        "- $r_{cl}$: Annual cost of living raise\n",
        "- $r_p$: Promotion raise\n",
        "- $p$: Number of promotions\n",
        "\n",
        "And in Python format:"
      ]
    },
    {
      "cell_type": "code",
      "execution_count": null,
      "metadata": {
        "id": "lIhQFH9wP4qc"
      },
      "outputs": [],
      "source": [
        "def salary_at_year(data: ModelInputs, year):\n",
        "    \"\"\"\n",
        "    Gets the salary at a given year from the start of the model based on cost of living raises and regular promotions.\n",
        "    \"\"\"\n",
        "    # Every n years we have a promotion, so dividing the years and taking out the decimals gets the number of promotions\n",
        "    num_promos = int(year / data.promos_every_n_years)\n",
        "\n",
        "    # This is the formula above implemented in Python\n",
        "    salary_t = data.starting_salary * (1 + data.cost_of_living_raise) ** year * (1 + data.promo_raise) ** num_promos\n",
        "    return salary_t"
      ]
    },
    {
      "cell_type": "markdown",
      "metadata": {
        "id": "lj6dLSzDP4qd"
      },
      "source": [
        "That function will get the salary at a given year, so to get all the salaries we just run it on each year. But we will not know how many years to run as we should run it until the individual is able to retire. So we are just showing the first few salaries for now and will later use this function in the [Wealths](#Wealths) section of the model."
      ]
    },
    {
      "cell_type": "code",
      "execution_count": null,
      "metadata": {
        "id": "JUHoRHnvP4qe",
        "outputId": "51799753-a6c6-4104-81ea-f081c2732c67",
        "colab": {
          "base_uri": "https://localhost:8080/"
        }
      },
      "outputs": [
        {
          "output_type": "stream",
          "name": "stdout",
          "text": [
            "The salary at year 1 is $61,200.\n",
            "The salary at year 2 is $62,424.\n",
            "The salary at year 3 is $63,672.\n",
            "The salary at year 4 is $64,946.\n",
            "The salary at year 5 is $76,182.\n",
            "The salary at year 6 is $77,705.\n"
          ]
        }
      ],
      "source": [
        "for i in range(6):\n",
        "    year = i + 1\n",
        "    salary = salary_at_year(model_data, year)\n",
        "    print(f'The salary at year {year} is ${salary:,.0f}.')"
      ]
    },
    {
      "cell_type": "markdown",
      "metadata": {
        "id": "-m0_kssuP4qf"
      },
      "source": [
        "As expected, with the default inputs, the salary is increasing at 2% per year. Then at year 5, there is a promotion so there is a larger increase in salary."
      ]
    },
    {
      "cell_type": "markdown",
      "metadata": {
        "id": "nwldnpPdP4qf"
      },
      "source": [
        "## Wealths\n",
        "\n",
        "The wealths portion of the model is concerned with applying the savings rate to the earned salary to calculate the cash saved, accumulating the cash saved over time, and applying the investment rate to the accumulated wealth.\n",
        "\n",
        "To calculate cash saved, it is simply:\n",
        "\n",
        "$$c_t = s_t * r_s$$\n",
        "\n",
        "Where:\n",
        "- $c_t$: Cash saved during year $t$\n",
        "- $r_s$: Savings rate"
      ]
    },
    {
      "cell_type": "code",
      "execution_count": null,
      "metadata": {
        "id": "3f8KiS4_P4qf"
      },
      "outputs": [],
      "source": [
        "def cash_saved_during_year(data: ModelInputs, year):\n",
        "    \"\"\"\n",
        "    Calculated the cash saved within a given year, by first calculating the salary at that year then applying the\n",
        "    savings rate.\n",
        "    \"\"\"\n",
        "    salary = salary_at_year(data, year)\n",
        "    cash_saved = salary * data.savings_rate\n",
        "    return cash_saved"
      ]
    },
    {
      "cell_type": "markdown",
      "metadata": {
        "id": "GyQl9dqjP4qg"
      },
      "source": [
        "To get the wealth at each year, it is just applying the investment return to last year's wealth, then adding this year's cash saved:\n",
        "\n",
        "$$w_t = w_{t-1} (1 + r_i) + c_t$$\n",
        "Where:\n",
        "- $w_t$: Wealth at year $t$\n",
        "- $r_i$: Investment rate"
      ]
    },
    {
      "cell_type": "code",
      "execution_count": null,
      "metadata": {
        "id": "bPuKUs3FP4qg"
      },
      "outputs": [],
      "source": [
        "def wealth_at_year(data: ModelInputs, year, prior_wealth):\n",
        "    \"\"\"\n",
        "    Calculate the accumulated wealth for a given year, based on previous wealth, the investment rate,\n",
        "    and cash saved during the year.\n",
        "    \"\"\"\n",
        "    cash_saved = cash_saved_during_year(data, year)\n",
        "    wealth = prior_wealth * (1 + data.interest_rate) + cash_saved\n",
        "    return wealth"
      ]
    },
    {
      "cell_type": "markdown",
      "metadata": {
        "id": "p01wn6vAP4qh"
      },
      "source": [
        "Again, just like in the [Salaries](#Salaries) section, we can now get the output for each year, but we don't know ultimately how many years we will have to run it. That will be determined in the [Retirement](#Retirement) section. So for now, just show the first few years of wealth accumulation:"
      ]
    },
    {
      "cell_type": "code",
      "execution_count": null,
      "metadata": {
        "id": "yWkOkYaZP4qh",
        "outputId": "0bf98fc8-3bb7-4562-d218-f0555471ebde",
        "colab": {
          "base_uri": "https://localhost:8080/"
        }
      },
      "outputs": [
        {
          "output_type": "stream",
          "name": "stdout",
          "text": [
            "The wealth at year 1 is $15,300.\n",
            "The wealth at year 2 is $31,671.\n",
            "The wealth at year 3 is $49,173.\n",
            "The wealth at year 4 is $67,868.\n",
            "The wealth at year 5 is $90,307.\n",
            "The wealth at year 6 is $114,248.\n"
          ]
        }
      ],
      "source": [
        "prior_wealth = 0  # starting with no cash saved\n",
        "for i in range(6):\n",
        "    year = i + 1\n",
        "    wealth = wealth_at_year(model_data, year, prior_wealth)\n",
        "    print(f'The wealth at year {year} is ${wealth:,.0f}.')\n",
        "\n",
        "    # Set next year's prior wealth to this year's wealth\n",
        "    prior_wealth = wealth"
      ]
    },
    {
      "cell_type": "markdown",
      "metadata": {
        "id": "kVvaCyulP4qh"
      },
      "source": [
        "With default inputs, the wealth is going up by approximately 25% of the salary each year, plus a bit more for investment. Then in year 6 we see a substantially larger increase because the salary is substantially larger due to the promotion. So everything is looking correct."
      ]
    },
    {
      "cell_type": "markdown",
      "metadata": {
        "id": "vpWQNtzXP4qh"
      },
      "source": [
        "## Retirement\n",
        "\n",
        "This section of the model puts everything together to produce the final output of years to retirement. It uses the logic to get the wealths at each year, which in turn uses the logic to the get salary at each year. The wealth at each year is tracked over time until it hits the desired cash. Once the wealth hits the desired cash, the individual is able to retire so that year is returned as the years to retirement."
      ]
    },
    {
      "cell_type": "code",
      "execution_count": null,
      "metadata": {
        "id": "rTdTNBC2P4qh"
      },
      "outputs": [],
      "source": [
        "def years_to_retirement(data: ModelInputs):\n",
        "\n",
        "    # starting with no cash saved\n",
        "    prior_wealth = 0\n",
        "    wealth = 0\n",
        "\n",
        "    year = 0  # will become 1 on first loop\n",
        "\n",
        "    print('Wealths over time:') # \\n makes a blank line in the output.\n",
        "    while wealth < data.desired_cash:\n",
        "        year = year + 1\n",
        "        wealth = wealth_at_year(model_data, year, prior_wealth)\n",
        "        print(f'The wealth at year {year} is ${wealth:,.0f}.')\n",
        "\n",
        "        # Set next year's prior wealth to this year's wealth\n",
        "        prior_wealth = wealth\n",
        "\n",
        "    # Now we have exited the while loop, so wealth must be >= desired_cash. Whatever last year was set\n",
        "    # is the years to retirement.\n",
        "    print(f'\\nRetirement:\\nIt will take {year} years to retire.')  # \\n makes a blank line in the output.\n",
        "    return year"
      ]
    },
    {
      "cell_type": "markdown",
      "metadata": {
        "id": "Tf3lSXQoP4qi"
      },
      "source": [
        "With the default inputs:"
      ]
    },
    {
      "cell_type": "code",
      "execution_count": null,
      "metadata": {
        "id": "ROvH1rkkP4qi",
        "outputId": "33886b18-8a10-4e82-8cab-1dc283f9d14c",
        "colab": {
          "base_uri": "https://localhost:8080/"
        }
      },
      "outputs": [
        {
          "output_type": "stream",
          "name": "stdout",
          "text": [
            "Wealths over time:\n",
            "The wealth at year 1 is $15,300.\n",
            "The wealth at year 2 is $31,671.\n",
            "The wealth at year 3 is $49,173.\n",
            "The wealth at year 4 is $67,868.\n",
            "The wealth at year 5 is $90,307.\n",
            "The wealth at year 6 is $114,248.\n",
            "The wealth at year 7 is $139,775.\n",
            "The wealth at year 8 is $166,975.\n",
            "The wealth at year 9 is $195,939.\n",
            "The wealth at year 10 is $229,918.\n",
            "The wealth at year 11 is $266,080.\n",
            "The wealth at year 12 is $304,542.\n",
            "The wealth at year 13 is $345,431.\n",
            "The wealth at year 14 is $388,878.\n",
            "The wealth at year 15 is $439,025.\n",
            "The wealth at year 16 is $492,294.\n",
            "The wealth at year 17 is $548,853.\n",
            "The wealth at year 18 is $608,878.\n",
            "The wealth at year 19 is $672,557.\n",
            "The wealth at year 20 is $745,168.\n",
            "The wealth at year 21 is $822,190.\n",
            "The wealth at year 22 is $903,859.\n",
            "The wealth at year 23 is $990,422.\n",
            "The wealth at year 24 is $1,082,140.\n",
            "The wealth at year 25 is $1,185,745.\n",
            "The wealth at year 26 is $1,295,520.\n",
            "The wealth at year 27 is $1,411,793.\n",
            "The wealth at year 28 is $1,534,910.\n",
            "\n",
            "Retirement:\n",
            "It will take 28 years to retire.\n"
          ]
        }
      ],
      "source": [
        "years = years_to_retirement(model_data)"
      ]
    },
    {
      "cell_type": "code",
      "source": [
        "#Calculating desired cash in retirement\n",
        "def DesiredCash(data: ModelInputs):\n",
        "  #return data.annual_cash_spend_during_retirement * data.years_in_retirement\n",
        "  d=data.annual_cash_spend_during_retirement\n",
        "  for i in range(1,data.years_in_retirement):\n",
        "    d=d*(1/(1+i)+1)\n",
        "  print(d)\n",
        "  return d\n",
        "\n",
        "\n",
        "\n",
        "data=ModelInputs(desired_cash=DesiredCash(model_data))\n",
        "years_to_retirement(data)"
      ],
      "metadata": {
        "id": "Bw7Bm2INlA09",
        "outputId": "06de1712-da43-4241-c465-cdb6595c371a",
        "colab": {
          "base_uri": "https://localhost:8080/"
        }
      },
      "execution_count": null,
      "outputs": [
        {
          "output_type": "stream",
          "name": "stdout",
          "text": [
            "520000.0\n",
            "Wealths over time:\n",
            "The wealth at year 1 is $15,300.\n",
            "The wealth at year 2 is $31,671.\n",
            "The wealth at year 3 is $49,173.\n",
            "The wealth at year 4 is $67,868.\n",
            "The wealth at year 5 is $90,307.\n",
            "The wealth at year 6 is $114,248.\n",
            "The wealth at year 7 is $139,775.\n",
            "The wealth at year 8 is $166,975.\n",
            "The wealth at year 9 is $195,939.\n",
            "The wealth at year 10 is $229,918.\n",
            "The wealth at year 11 is $266,080.\n",
            "The wealth at year 12 is $304,542.\n",
            "The wealth at year 13 is $345,431.\n",
            "The wealth at year 14 is $388,878.\n",
            "The wealth at year 15 is $439,025.\n",
            "The wealth at year 16 is $492,294.\n",
            "The wealth at year 17 is $548,853.\n",
            "\n",
            "Retirement:\n",
            "It will take 17 years to retire.\n"
          ]
        },
        {
          "output_type": "execute_result",
          "data": {
            "text/plain": [
              "17"
            ]
          },
          "metadata": {},
          "execution_count": 25
        }
      ]
    },
    {
      "cell_type": "markdown",
      "source": [
        "Let the interest rate per annum =i\n",
        "annual spending=a\n",
        "desired amount =d\n",
        "\n"
      ],
      "metadata": {
        "id": "9Y5gLcde0DAG"
      }
    }
  ],
  "metadata": {
    "kernelspec": {
      "display_name": "Python 3",
      "language": "python",
      "name": "python3"
    },
    "language_info": {
      "codemirror_mode": {
        "name": "ipython",
        "version": 3
      },
      "file_extension": ".py",
      "mimetype": "text/x-python",
      "name": "python",
      "nbconvert_exporter": "python",
      "pygments_lexer": "ipython3",
      "version": "3.7.1"
    },
    "colab": {
      "provenance": []
    }
  },
  "nbformat": 4,
  "nbformat_minor": 0
}