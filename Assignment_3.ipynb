{
  "cells": [
    {
      "cell_type": "markdown",
      "metadata": {
        "id": "GpmjbSJGUouw"
      },
      "source": [
        "# Lab Exercises for Python Basics Lecture"
      ]
    },
    {
      "cell_type": "markdown",
      "metadata": {
        "id": "ae5IGLwUUou2"
      },
      "source": [
        "## Conditionals"
      ]
    },
    {
      "cell_type": "markdown",
      "metadata": {
        "id": "e-m-vHYMUou3"
      },
      "source": [
        "### Exercise 1\n",
        "\n",
        "Make a condition that should print \"Yes, it is 5\" if the value of `my_var` is 5 and \"No, it is not 5\" if it is not."
      ]
    },
    {
      "cell_type": "code",
      "execution_count": null,
      "metadata": {
        "id": "oFR18hh8Uou3",
        "colab": {
          "base_uri": "https://localhost:8080/"
        },
        "outputId": "bd0603d7-847b-4cfa-9df9-1990c44cba90"
      },
      "outputs": [
        {
          "output_type": "stream",
          "name": "stdout",
          "text": [
            "Yes, it is 5\n",
            "No, it is not 5\n"
          ]
        }
      ],
      "source": [
        "def check(a):\n",
        "  if a==5:\n",
        "    print(\"Yes, it is 5\")\n",
        "  else:\n",
        "    print(\"No, it is not 5\")\n",
        "\n",
        "my_var = 5\n",
        "check(my_var)\n",
        "my_var=6\n",
        "check(my_var)\n",
        "\n",
        "# To check the result, run once with my_var=5, then again with setting it to another value to check the two cases."
      ]
    },
    {
      "cell_type": "markdown",
      "metadata": {
        "id": "Nu2L4GlpUou5"
      },
      "source": [
        "### Exercise 2\n",
        "\n",
        "Print all the items which start with a. If it does not start with a, print \"not starting with a\""
      ]
    },
    {
      "cell_type": "code",
      "execution_count": null,
      "metadata": {
        "colab": {
          "base_uri": "https://localhost:8080/"
        },
        "id": "IvUnnFv-Uou5",
        "outputId": "51bbdef0-a99c-476f-8ce7-70dd43374af0"
      },
      "outputs": [
        {
          "output_type": "stream",
          "name": "stdout",
          "text": [
            "abby\n",
            "argh\n",
            "not starting with a\n",
            "not starting with a\n",
            "not starting with a\n",
            "away\n",
            "not starting with a\n",
            "a\n",
            "not starting with a\n"
          ]
        }
      ],
      "source": [
        "items = ['abby', 'argh', 'stuff', 'whoa', 'yes', 'away', 'boo', 'a', 'the']\n",
        "for st in items:\n",
        "  if st[0]=='a':\n",
        "    print(st)\n",
        "  else :\n",
        "    print(\"not starting with a\")\n",
        "\n",
        "# Exercise 2 answer here"
      ]
    },
    {
      "cell_type": "markdown",
      "metadata": {
        "id": "PqkyIQtrUou5"
      },
      "source": [
        "### Exercise 3\n",
        "\n",
        "Find the sum of items which are under 10 in the list."
      ]
    },
    {
      "cell_type": "code",
      "execution_count": null,
      "metadata": {
        "colab": {
          "base_uri": "https://localhost:8080/"
        },
        "id": "Q8mTbnyaUou6",
        "outputId": "c2e7cf63-3bcd-40f3-e761-37f4e3956ac7"
      },
      "outputs": [
        {
          "output_type": "stream",
          "name": "stdout",
          "text": [
            "14\n"
          ]
        }
      ],
      "source": [
        "my_items = [1, 15, 10, 8, 5, 56]\n",
        "sum=0\n",
        "for i in my_items:\n",
        "  if i<10:\n",
        "    sum+=i\n",
        "\n",
        "print(sum)\n"
      ]
    },
    {
      "cell_type": "markdown",
      "metadata": {
        "id": "hTWTOnTkUou6"
      },
      "source": [
        "## Working with Lists"
      ]
    },
    {
      "cell_type": "markdown",
      "metadata": {
        "id": "2Ztiqy4ZUou6"
      },
      "source": [
        "### Exercise 1\n",
        "\n",
        "Create a list which has 50 added to each of the elements in the inputs (answer should be [150, 250, 350]). Create this without manually typing it in."
      ]
    },
    {
      "cell_type": "code",
      "execution_count": null,
      "metadata": {
        "colab": {
          "base_uri": "https://localhost:8080/"
        },
        "id": "WTvpqoXoUou7",
        "outputId": "fdaf9caf-155c-4f25-d2b4-52dc20184cbc"
      },
      "outputs": [
        {
          "output_type": "stream",
          "name": "stdout",
          "text": [
            "[150, 250, 350]\n"
          ]
        }
      ],
      "source": [
        "inputs = [100, 200, 300]\n",
        "for i in range(0,3):\n",
        "  inputs[i]+=50\n",
        "\n",
        "print(inputs)\n",
        "\n"
      ]
    },
    {
      "cell_type": "markdown",
      "metadata": {
        "id": "3Y7Hr7JHUou7"
      },
      "source": [
        "### Exercise 2\n",
        "\n",
        "Add the missing \"c\" as the third item in the following list."
      ]
    },
    {
      "cell_type": "code",
      "execution_count": null,
      "metadata": {
        "colab": {
          "base_uri": "https://localhost:8080/"
        },
        "id": "y-0GugBMUou7",
        "outputId": "40497db7-73d4-4b21-e034-9b62f54d751a"
      },
      "outputs": [
        {
          "output_type": "execute_result",
          "data": {
            "text/plain": [
              "['a', 'b', 'c', 'd', 'e', 'f', 'g']"
            ]
          },
          "metadata": {},
          "execution_count": 6
        }
      ],
      "source": [
        "my_list = ['a', 'b', 'd', 'e', 'f', 'g']\n",
        "\n",
        "# Exercise 2 answer here\n",
        "my_list.insert(2,'c')\n",
        "my_list"
      ]
    },
    {
      "cell_type": "markdown",
      "metadata": {
        "id": "kF8ZV6D_Uou7"
      },
      "source": [
        "### Exercise 3\n",
        "\n",
        "First print items 2-4 of the list, then the 5th item, then print the last 3 items. When printing the last 3 items, use a negative index."
      ]
    },
    {
      "cell_type": "code",
      "execution_count": null,
      "metadata": {
        "colab": {
          "base_uri": "https://localhost:8080/"
        },
        "id": "3sHcnIZIUou7",
        "outputId": "e1f9bb9c-ebda-466e-f84c-31f7e19a5a61"
      },
      "outputs": [
        {
          "output_type": "stream",
          "name": "stdout",
          "text": [
            "[64, 81, 24]\n",
            "4\n",
            "[98, 78, 21]\n"
          ]
        }
      ],
      "source": [
        "some_numbers = [55, 64, 81, 24, 4, 65, 74, 84, 21, 78, 98]\n",
        "print(some_numbers[1:4])\n",
        "print(some_numbers[4])\n",
        "print(some_numbers[-1:-4:-1])"
      ]
    },
    {
      "cell_type": "markdown",
      "metadata": {
        "id": "g7OHoQJEUou8"
      },
      "source": [
        "## Functions\n",
        "\n",
        "For the functions exercises, I have added a cell under each which will check whether your function is working properly. Run the cell labeled with \"Check Exercise x\" to check it. If it runs without issues, your function works properyl. If it raises an `AssertionError`, then your function is not working correctly. If you get a `NameError`, then you have not defined your function (either a typo in the name or you didn't run the cell with the function definition).\n"
      ]
    },
    {
      "cell_type": "markdown",
      "metadata": {
        "id": "F0RFP6RWUou8"
      },
      "source": [
        "### Exercise 1\n",
        "\n",
        "Create a function `add_10` which adds 10 to the passed number."
      ]
    },
    {
      "cell_type": "code",
      "execution_count": null,
      "metadata": {
        "id": "w8Uhna4oUou8"
      },
      "outputs": [],
      "source": [
        "# Excercise 1 answer here\n",
        "def add_10(a):\n",
        "  return a+10"
      ]
    },
    {
      "cell_type": "markdown",
      "metadata": {
        "id": "uzXRgc1gUou8"
      },
      "source": [
        "#### Check Exercise 1"
      ]
    },
    {
      "cell_type": "code",
      "execution_count": null,
      "metadata": {
        "id": "h7sc2CSfUou9"
      },
      "outputs": [],
      "source": [
        "assert add_10(10) == 20\n",
        "assert add_10(-50) == -40"
      ]
    },
    {
      "cell_type": "markdown",
      "metadata": {
        "id": "M3jh0ZWfUou9"
      },
      "source": [
        "### Exercise 2\n",
        "\n",
        "Create a function `multiply` which multiples the first passed number by the second passed number, but give the second number a default value of 100."
      ]
    },
    {
      "cell_type": "code",
      "execution_count": null,
      "metadata": {
        "id": "iNl0jyQMUou9"
      },
      "outputs": [],
      "source": [
        "# Excercise 2 answer here\n",
        "def multiply(a,b=100):\n",
        "  return a*b"
      ]
    },
    {
      "cell_type": "markdown",
      "metadata": {
        "id": "ntkYCnMcUou9"
      },
      "source": [
        "#### Check Exercise 2"
      ]
    },
    {
      "cell_type": "code",
      "execution_count": null,
      "metadata": {
        "id": "i3OHgMiMUou9"
      },
      "outputs": [],
      "source": [
        "assert multiply(5, 10) == 50\n",
        "assert multiply(5) == 500"
      ]
    },
    {
      "cell_type": "markdown",
      "metadata": {
        "id": "1OhWH0W1Uou9"
      },
      "source": [
        "### Exercise 3\n",
        "\n",
        "Create a function `has_doc` which has a docstring. For this exercise, it doesn't matter what the function does, but it must do something to be valid Python."
      ]
    },
    {
      "cell_type": "code",
      "execution_count": null,
      "metadata": {
        "id": "S8Fm-cbLUou-"
      },
      "outputs": [],
      "source": [
        "# Excercise 3 answer here\n",
        "def has_doc(a):\n",
        "  \"\"\"\n",
        "  This is a docstring\n",
        "  \"\"\"\n",
        "  return a"
      ]
    },
    {
      "cell_type": "markdown",
      "metadata": {
        "id": "QzyKtWQyUou-"
      },
      "source": [
        "#### Check Exercise 3"
      ]
    },
    {
      "cell_type": "code",
      "execution_count": null,
      "metadata": {
        "id": "5i6su9UOUou-"
      },
      "outputs": [],
      "source": [
        "import inspect\n",
        "\n",
        "assert inspect.getdoc(has_doc) is not None"
      ]
    },
    {
      "cell_type": "markdown",
      "metadata": {
        "id": "hJDkjHjOUou-"
      },
      "source": [
        "## Data Types\n",
        "\n",
        "### Exercise 1\n",
        "\n",
        "Create a `tuple` with the values `'first', 'second'`, then extract the value `'second'` from it."
      ]
    },
    {
      "cell_type": "code",
      "execution_count": null,
      "metadata": {
        "colab": {
          "base_uri": "https://localhost:8080/",
          "height": 35
        },
        "id": "VCzy0SPRUou-",
        "outputId": "06c4400a-1484-4e2c-b4d6-9cad6a372682"
      },
      "outputs": [
        {
          "output_type": "execute_result",
          "data": {
            "text/plain": [
              "'second'"
            ],
            "application/vnd.google.colaboratory.intrinsic+json": {
              "type": "string"
            }
          },
          "metadata": {},
          "execution_count": 19
        }
      ],
      "source": [
        "# Exercise 1 answer here\n",
        "t=('first','second')\n",
        "t[1]"
      ]
    },
    {
      "cell_type": "markdown",
      "metadata": {
        "id": "vVMnVpcOUou-"
      },
      "source": [
        "### Exercise 2\n",
        "\n",
        "Create a `dict` where `'green'` can be looked up by `'favorite_color'` and `'blue'` can be looked up by `'second_favorite_color'`, then look up `'second_favorite_color'` to yield `'blue'`"
      ]
    },
    {
      "cell_type": "code",
      "execution_count": null,
      "metadata": {
        "colab": {
          "base_uri": "https://localhost:8080/",
          "height": 35
        },
        "id": "FuvhtL3QUou_",
        "outputId": "e64fd833-6874-47f7-ec7e-e3cbef5a96d4"
      },
      "outputs": [
        {
          "output_type": "execute_result",
          "data": {
            "text/plain": [
              "'blue'"
            ],
            "application/vnd.google.colaboratory.intrinsic+json": {
              "type": "string"
            }
          },
          "metadata": {},
          "execution_count": 20
        }
      ],
      "source": [
        "# Exercise 2 answer here\n",
        "d={'favorite_color':'green','second_favorite_color':'blue'}\n",
        "d['second_favorite_color']"
      ]
    },
    {
      "cell_type": "markdown",
      "metadata": {
        "id": "BiCCKFplUou_"
      },
      "source": [
        "### Exercise 3\n",
        "\n",
        "Extract the value stored under `'look_me_up'` in the nested data structure."
      ]
    },
    {
      "cell_type": "code",
      "execution_count": null,
      "metadata": {
        "colab": {
          "base_uri": "https://localhost:8080/",
          "height": 35
        },
        "id": "3Tbf8SEtUou_",
        "outputId": "1027b316-cabb-472a-b162-26cce5e354e3"
      },
      "outputs": [
        {
          "output_type": "execute_result",
          "data": {
            "text/plain": [
              "'you got it'"
            ],
            "application/vnd.google.colaboratory.intrinsic+json": {
              "type": "string"
            }
          },
          "metadata": {},
          "execution_count": 21
        }
      ],
      "source": [
        "my_data = [\n",
        "    {\n",
        "        'a': {\n",
        "            'b': [\n",
        "                {\n",
        "                    'look_me_up': 'you got it'\n",
        "                }\n",
        "            ]\n",
        "        }\n",
        "    }\n",
        "]\n",
        "\n",
        "# Exercise 3 answer here\n",
        "my_data[0]['a']['b'][0]['look_me_up']"
      ]
    },
    {
      "cell_type": "markdown",
      "metadata": {
        "id": "BHlj3EDPUovA"
      },
      "source": [
        "## Working with Classes"
      ]
    },
    {
      "cell_type": "markdown",
      "metadata": {
        "id": "tHsb2ohbUovB"
      },
      "source": [
        "### Exercise 1\n",
        "\n",
        "Import the `Car` from `car_example`. Call `.drive()` enough times to make it drive until it is out of gas. Then call `.fill_up()` and drive some more.  "
      ]
    },
    {
      "cell_type": "code",
      "execution_count": null,
      "metadata": {
        "colab": {
          "base_uri": "https://localhost:8080/"
        },
        "id": "4t8LoFpaUovB",
        "outputId": "63d28e83-878e-4aa8-dc4d-209355233b58"
      },
      "outputs": [
        {
          "output_type": "stream",
          "name": "stdout",
          "text": [
            "The S M is driving away!\n",
            "The gas is now at 40%\n",
            "The S M is driving away!\n",
            "The gas is now at 30%\n",
            "The S M is driving away!\n",
            "The gas is now at 20%\n",
            "The S M is driving away!\n",
            "The gas is now at 10%\n",
            "The S M is driving away!\n",
            "The gas is now at 0%\n",
            "\n",
            "The gas is now at 100%\n",
            "The S M is driving away!\n",
            "The gas is now at 90%\n",
            "The S M is driving away!\n",
            "The gas is now at 80%\n",
            "The S M is driving away!\n",
            "The gas is now at 70%\n",
            "The S M is driving away!\n",
            "The gas is now at 60%\n",
            "The S M is driving away!\n",
            "The gas is now at 50%\n",
            "The S M is driving away!\n",
            "The gas is now at 40%\n",
            "The S M is driving away!\n",
            "The gas is now at 30%\n",
            "The S M is driving away!\n",
            "The gas is now at 20%\n",
            "The S M is driving away!\n",
            "The gas is now at 10%\n",
            "The S M is driving away!\n",
            "The gas is now at 0%\n"
          ]
        }
      ],
      "source": [
        "# Exercise 1 answer here\n",
        "class Car:\n",
        "\n",
        "    def __init__(self, make, model, gas_pct=0.5):\n",
        "        self.make = make\n",
        "        self.model = model\n",
        "        self.gas_pct = gas_pct\n",
        "\n",
        "    def drive(self):\n",
        "        self.gas_pct -= 0.1\n",
        "        if self.gas_pct < 0:\n",
        "            self.gas_pct = 0\n",
        "            print(f'The {self.make_and_model} is out of gas!')\n",
        "        else:\n",
        "            print(f'The {self.make_and_model} is driving away!')\n",
        "            self.show_gas()\n",
        "\n",
        "    def fill_up(self):\n",
        "        self.gas_pct = 1\n",
        "        self.show_gas()\n",
        "\n",
        "    def show_gas(self):\n",
        "        print(f'The gas is now at {self.gas_pct:.0%}')\n",
        "\n",
        "    @property\n",
        "    def make_and_model(self):\n",
        "        return f'{self.make} {self.model}'\n",
        "\n",
        "    def __repr__(self):\n",
        "        return f'Car(make={self.make}, model={self.model})'\n",
        "\n",
        "\n",
        "carnew=Car(\"S\",\"M\")\n",
        "for i in range(5):\n",
        "    carnew.drive()\n",
        "print()\n",
        "\n",
        "carnew.fill_up()\n",
        "for i in range(10):\n",
        "    carnew.drive()"
      ]
    },
    {
      "cell_type": "markdown",
      "metadata": {
        "id": "xOCH13jXUovC"
      },
      "source": [
        "### Exercise 2\n",
        "\n",
        "Create a `dataclass` to represent a stock. Give it the attributes `price`, `ticker`, `name`, and `industries`. There should be multiple industries. Give them default values for your favorite company. Create an object of this type."
      ]
    },
    {
      "cell_type": "code",
      "execution_count": null,
      "metadata": {
        "colab": {
          "base_uri": "https://localhost:8080/"
        },
        "id": "Ubqvb8zqUovC",
        "outputId": "efb19c8d-9446-4ad6-9fea-05efb629c41d"
      },
      "outputs": [
        {
          "output_type": "stream",
          "name": "stdout",
          "text": [
            "Stock(price=1000, ticker='TA', name='TATA', industries=('food', 'electronics', 'automobiles', 'chemicals'))\n"
          ]
        }
      ],
      "source": [
        "# Exercise 2 answer here\n",
        "from dataclasses import dataclass\n",
        "@dataclass\n",
        "class Stock:\n",
        "    price: float = 1000\n",
        "    ticker: str ='TA'\n",
        "    name: str='TATA'\n",
        "    industries: tuple = (\"food\", 'electronics','automobiles','chemicals')\n",
        "\n",
        "\n",
        "data=Stock()\n",
        "print(data)"
      ]
    },
    {
      "cell_type": "markdown",
      "metadata": {
        "id": "jvres3-jUovO"
      },
      "source": [
        "### Exercise 3\n",
        "\n",
        "Create a function which prints which industries the company is in along with the ticker. Example output:\n",
        "\n",
        "```\n",
        "MSFT is in industry software\n",
        "MSFT is in industry hardware\n",
        "MSFT is in industry cloud services\n",
        "```\n",
        "\n",
        "The function should accept only a single argument, an object of the stock type."
      ]
    },
    {
      "cell_type": "code",
      "execution_count": null,
      "metadata": {
        "colab": {
          "base_uri": "https://localhost:8080/"
        },
        "id": "WYtPsOC3UovO",
        "outputId": "d1d7d9d8-a175-4448-e089-866d12f80218"
      },
      "outputs": [
        {
          "output_type": "stream",
          "name": "stdout",
          "text": [
            "TA  is in industry  food\n",
            "TA  is in industry  electronics\n",
            "TA  is in industry  automobiles\n",
            "TA  is in industry  chemicals\n"
          ]
        }
      ],
      "source": [
        "# Exercise 3 answer here\n",
        "def ind(St):\n",
        "  for i in St.industries:\n",
        "    print(St.ticker,\" is in industry \",i)\n",
        "\n",
        "data=Stock()\n",
        "ind(data)"
      ]
    }
  ],
  "metadata": {
    "kernelspec": {
      "display_name": "Python 3",
      "language": "python",
      "name": "python3"
    },
    "language_info": {
      "codemirror_mode": {
        "name": "ipython",
        "version": 3
      },
      "file_extension": ".py",
      "mimetype": "text/x-python",
      "name": "python",
      "nbconvert_exporter": "python",
      "pygments_lexer": "ipython3",
      "version": "3.7.3"
    },
    "colab": {
      "provenance": []
    }
  },
  "nbformat": 4,
  "nbformat_minor": 0
}